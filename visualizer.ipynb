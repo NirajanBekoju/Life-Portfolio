{
 "cells": [
  {
   "cell_type": "code",
   "execution_count": 1,
   "id": "e16e39b2",
   "metadata": {},
   "outputs": [],
   "source": [
    "import streamlit as st\n",
    "from db_handler import get_latest_data\n",
    "import plotly.express as px\n"
   ]
  },
  {
   "cell_type": "code",
   "execution_count": 2,
   "id": "32c87519",
   "metadata": {},
   "outputs": [],
   "source": [
    "email = 'nirajan.bekoju@gmail.com'\n",
    "latest_portfolio_df = get_latest_data(email)"
   ]
  },
  {
   "cell_type": "code",
   "execution_count": 3,
   "id": "841e8873",
   "metadata": {},
   "outputs": [
    {
     "data": {
      "text/html": [
       "<div>\n",
       "<style scoped>\n",
       "    .dataframe tbody tr th:only-of-type {\n",
       "        vertical-align: middle;\n",
       "    }\n",
       "\n",
       "    .dataframe tbody tr th {\n",
       "        vertical-align: top;\n",
       "    }\n",
       "\n",
       "    .dataframe thead th {\n",
       "        text-align: right;\n",
       "    }\n",
       "</style>\n",
       "<table border=\"1\" class=\"dataframe\">\n",
       "  <thead>\n",
       "    <tr style=\"text-align: right;\">\n",
       "      <th></th>\n",
       "      <th>Strategic Life Areas(SLAs)</th>\n",
       "      <th>Strategic Life Units (SLUs)</th>\n",
       "      <th>Importance Level</th>\n",
       "      <th>Satisfaction Level</th>\n",
       "      <th>Average Hours Spent in Week</th>\n",
       "      <th>Email</th>\n",
       "      <th>Created_Date</th>\n",
       "    </tr>\n",
       "  </thead>\n",
       "  <tbody>\n",
       "    <tr>\n",
       "      <th>0</th>\n",
       "      <td>Relationships</td>\n",
       "      <td>Significant Other</td>\n",
       "      <td>0</td>\n",
       "      <td>2</td>\n",
       "      <td>103</td>\n",
       "      <td>nirajan.bekoju@gmail.com</td>\n",
       "      <td>2025-09-28 14:48:53.400433</td>\n",
       "    </tr>\n",
       "    <tr>\n",
       "      <th>1</th>\n",
       "      <td>Relationships</td>\n",
       "      <td>Family</td>\n",
       "      <td>8</td>\n",
       "      <td>4</td>\n",
       "      <td>68</td>\n",
       "      <td>nirajan.bekoju@gmail.com</td>\n",
       "      <td>2025-09-28 14:48:53.400433</td>\n",
       "    </tr>\n",
       "    <tr>\n",
       "      <th>2</th>\n",
       "      <td>Relationships</td>\n",
       "      <td>Friendship</td>\n",
       "      <td>0</td>\n",
       "      <td>3</td>\n",
       "      <td>15</td>\n",
       "      <td>nirajan.bekoju@gmail.com</td>\n",
       "      <td>2025-09-28 14:48:53.400433</td>\n",
       "    </tr>\n",
       "    <tr>\n",
       "      <th>3</th>\n",
       "      <td>Body, Mind and Spirituality</td>\n",
       "      <td>Physical Health/Sports</td>\n",
       "      <td>9</td>\n",
       "      <td>5</td>\n",
       "      <td>52</td>\n",
       "      <td>nirajan.bekoju@gmail.com</td>\n",
       "      <td>2025-09-28 14:48:53.400433</td>\n",
       "    </tr>\n",
       "    <tr>\n",
       "      <th>4</th>\n",
       "      <td>Body, Mind and Spirituality</td>\n",
       "      <td>Mental Health/Mindfulness</td>\n",
       "      <td>9</td>\n",
       "      <td>10</td>\n",
       "      <td>125</td>\n",
       "      <td>nirajan.bekoju@gmail.com</td>\n",
       "      <td>2025-09-28 14:48:53.400433</td>\n",
       "    </tr>\n",
       "    <tr>\n",
       "      <th>5</th>\n",
       "      <td>Body, Mind and Spirituality</td>\n",
       "      <td>Spirituality/Faith</td>\n",
       "      <td>7</td>\n",
       "      <td>4</td>\n",
       "      <td>164</td>\n",
       "      <td>nirajan.bekoju@gmail.com</td>\n",
       "      <td>2025-09-28 14:48:53.400433</td>\n",
       "    </tr>\n",
       "    <tr>\n",
       "      <th>6</th>\n",
       "      <td>Community and Society</td>\n",
       "      <td>Community/Citizenship</td>\n",
       "      <td>10</td>\n",
       "      <td>2</td>\n",
       "      <td>160</td>\n",
       "      <td>nirajan.bekoju@gmail.com</td>\n",
       "      <td>2025-09-28 14:48:53.400433</td>\n",
       "    </tr>\n",
       "    <tr>\n",
       "      <th>7</th>\n",
       "      <td>Community and Society</td>\n",
       "      <td>Societal Engagement</td>\n",
       "      <td>0</td>\n",
       "      <td>6</td>\n",
       "      <td>87</td>\n",
       "      <td>nirajan.bekoju@gmail.com</td>\n",
       "      <td>2025-09-28 14:48:53.400433</td>\n",
       "    </tr>\n",
       "    <tr>\n",
       "      <th>8</th>\n",
       "      <td>Job, Learning and Finances</td>\n",
       "      <td>Job/Career</td>\n",
       "      <td>3</td>\n",
       "      <td>2</td>\n",
       "      <td>121</td>\n",
       "      <td>nirajan.bekoju@gmail.com</td>\n",
       "      <td>2025-09-28 14:48:53.400433</td>\n",
       "    </tr>\n",
       "    <tr>\n",
       "      <th>9</th>\n",
       "      <td>Job, Learning and Finances</td>\n",
       "      <td>Education/Learning</td>\n",
       "      <td>7</td>\n",
       "      <td>10</td>\n",
       "      <td>168</td>\n",
       "      <td>nirajan.bekoju@gmail.com</td>\n",
       "      <td>2025-09-28 14:48:53.400433</td>\n",
       "    </tr>\n",
       "    <tr>\n",
       "      <th>10</th>\n",
       "      <td>Job, Learning and Finances</td>\n",
       "      <td>Finances</td>\n",
       "      <td>3</td>\n",
       "      <td>10</td>\n",
       "      <td>147</td>\n",
       "      <td>nirajan.bekoju@gmail.com</td>\n",
       "      <td>2025-09-28 14:48:53.400433</td>\n",
       "    </tr>\n",
       "    <tr>\n",
       "      <th>11</th>\n",
       "      <td>Interests and Entertainment</td>\n",
       "      <td>Hobbies/Interests</td>\n",
       "      <td>8</td>\n",
       "      <td>1</td>\n",
       "      <td>132</td>\n",
       "      <td>nirajan.bekoju@gmail.com</td>\n",
       "      <td>2025-09-28 14:48:53.400433</td>\n",
       "    </tr>\n",
       "    <tr>\n",
       "      <th>12</th>\n",
       "      <td>Interests and Entertainment</td>\n",
       "      <td>Online Entertainment</td>\n",
       "      <td>6</td>\n",
       "      <td>9</td>\n",
       "      <td>94</td>\n",
       "      <td>nirajan.bekoju@gmail.com</td>\n",
       "      <td>2025-09-28 14:48:53.400433</td>\n",
       "    </tr>\n",
       "    <tr>\n",
       "      <th>13</th>\n",
       "      <td>Interests and Entertainment</td>\n",
       "      <td>Offline Entertainment</td>\n",
       "      <td>1</td>\n",
       "      <td>9</td>\n",
       "      <td>122</td>\n",
       "      <td>nirajan.bekoju@gmail.com</td>\n",
       "      <td>2025-09-28 14:48:53.400433</td>\n",
       "    </tr>\n",
       "    <tr>\n",
       "      <th>14</th>\n",
       "      <td>Personal Care</td>\n",
       "      <td>Physiological Needs</td>\n",
       "      <td>4</td>\n",
       "      <td>0</td>\n",
       "      <td>59</td>\n",
       "      <td>nirajan.bekoju@gmail.com</td>\n",
       "      <td>2025-09-28 14:48:53.400433</td>\n",
       "    </tr>\n",
       "    <tr>\n",
       "      <th>15</th>\n",
       "      <td>Personal Care</td>\n",
       "      <td>Activities of Daily Living</td>\n",
       "      <td>2</td>\n",
       "      <td>1</td>\n",
       "      <td>72</td>\n",
       "      <td>nirajan.bekoju@gmail.com</td>\n",
       "      <td>2025-09-28 14:48:53.400433</td>\n",
       "    </tr>\n",
       "  </tbody>\n",
       "</table>\n",
       "</div>"
      ],
      "text/plain": [
       "     Strategic Life Areas(SLAs) Strategic Life Units (SLUs)  Importance Level  \\\n",
       "0                 Relationships           Significant Other                 0   \n",
       "1                 Relationships                      Family                 8   \n",
       "2                 Relationships                  Friendship                 0   \n",
       "3   Body, Mind and Spirituality      Physical Health/Sports                 9   \n",
       "4   Body, Mind and Spirituality   Mental Health/Mindfulness                 9   \n",
       "5   Body, Mind and Spirituality          Spirituality/Faith                 7   \n",
       "6         Community and Society       Community/Citizenship                10   \n",
       "7         Community and Society         Societal Engagement                 0   \n",
       "8    Job, Learning and Finances                  Job/Career                 3   \n",
       "9    Job, Learning and Finances          Education/Learning                 7   \n",
       "10   Job, Learning and Finances                    Finances                 3   \n",
       "11  Interests and Entertainment           Hobbies/Interests                 8   \n",
       "12  Interests and Entertainment        Online Entertainment                 6   \n",
       "13  Interests and Entertainment       Offline Entertainment                 1   \n",
       "14                Personal Care         Physiological Needs                 4   \n",
       "15                Personal Care  Activities of Daily Living                 2   \n",
       "\n",
       "    Satisfaction Level  Average Hours Spent in Week                     Email  \\\n",
       "0                    2                          103  nirajan.bekoju@gmail.com   \n",
       "1                    4                           68  nirajan.bekoju@gmail.com   \n",
       "2                    3                           15  nirajan.bekoju@gmail.com   \n",
       "3                    5                           52  nirajan.bekoju@gmail.com   \n",
       "4                   10                          125  nirajan.bekoju@gmail.com   \n",
       "5                    4                          164  nirajan.bekoju@gmail.com   \n",
       "6                    2                          160  nirajan.bekoju@gmail.com   \n",
       "7                    6                           87  nirajan.bekoju@gmail.com   \n",
       "8                    2                          121  nirajan.bekoju@gmail.com   \n",
       "9                   10                          168  nirajan.bekoju@gmail.com   \n",
       "10                  10                          147  nirajan.bekoju@gmail.com   \n",
       "11                   1                          132  nirajan.bekoju@gmail.com   \n",
       "12                   9                           94  nirajan.bekoju@gmail.com   \n",
       "13                   9                          122  nirajan.bekoju@gmail.com   \n",
       "14                   0                           59  nirajan.bekoju@gmail.com   \n",
       "15                   1                           72  nirajan.bekoju@gmail.com   \n",
       "\n",
       "                  Created_Date  \n",
       "0   2025-09-28 14:48:53.400433  \n",
       "1   2025-09-28 14:48:53.400433  \n",
       "2   2025-09-28 14:48:53.400433  \n",
       "3   2025-09-28 14:48:53.400433  \n",
       "4   2025-09-28 14:48:53.400433  \n",
       "5   2025-09-28 14:48:53.400433  \n",
       "6   2025-09-28 14:48:53.400433  \n",
       "7   2025-09-28 14:48:53.400433  \n",
       "8   2025-09-28 14:48:53.400433  \n",
       "9   2025-09-28 14:48:53.400433  \n",
       "10  2025-09-28 14:48:53.400433  \n",
       "11  2025-09-28 14:48:53.400433  \n",
       "12  2025-09-28 14:48:53.400433  \n",
       "13  2025-09-28 14:48:53.400433  \n",
       "14  2025-09-28 14:48:53.400433  \n",
       "15  2025-09-28 14:48:53.400433  "
      ]
     },
     "metadata": {},
     "output_type": "display_data"
    }
   ],
   "source": [
    "display(latest_portfolio_df)"
   ]
  },
  {
   "cell_type": "code",
   "execution_count": null,
   "id": "8559ef6b",
   "metadata": {},
   "outputs": [
    {
     "data": {
      "text/plain": [
       "'2025-09-28 14:48:53.400433'"
      ]
     },
     "execution_count": 15,
     "metadata": {},
     "output_type": "execute_result"
    }
   ],
   "source": [
    "life_portfolio_created_date"
   ]
  },
  {
   "cell_type": "code",
   "execution_count": null,
   "id": "51da022a",
   "metadata": {},
   "outputs": [
    {
     "data": {
      "application/vnd.plotly.v1+json": {
       "config": {
        "plotlyServerURL": "https://plot.ly"
       },
       "data": [
        {
         "hovertemplate": "<b>%{hovertext}</b><br><br>Strategic Life Areas(SLAs)=Relationships<br>Satisfaction Level=%{x}<br>Importance Level=%{y}<br>Average Hours Spent in Week=%{marker.size}<br>Strategic Life Units (SLUs)=%{text}<extra></extra>",
         "hovertext": [
          "Significant Other",
          "Family",
          "Friendship"
         ],
         "legendgroup": "Relationships",
         "marker": {
          "color": "red",
          "line": {
           "color": "DarkSlateGrey",
           "width": 1
          },
          "opacity": 0.8,
          "size": {
           "bdata": "Z0QP",
           "dtype": "i1"
          },
          "sizemode": "area",
          "sizeref": 0.105,
          "symbol": "circle"
         },
         "mode": "markers+text",
         "name": "Relationships",
         "orientation": "v",
         "showlegend": true,
         "text": [
          "Significant Other",
          "Family",
          "Friendship"
         ],
         "textfont": {
          "size": 12
         },
         "textposition": "middle center",
         "type": "scatter",
         "x": {
          "bdata": "AgQD",
          "dtype": "i1"
         },
         "xaxis": "x",
         "y": {
          "bdata": "AAgA",
          "dtype": "i1"
         },
         "yaxis": "y"
        },
        {
         "hovertemplate": "<b>%{hovertext}</b><br><br>Strategic Life Areas(SLAs)=Body, Mind and Spirituality<br>Satisfaction Level=%{x}<br>Importance Level=%{y}<br>Average Hours Spent in Week=%{marker.size}<br>Strategic Life Units (SLUs)=%{text}<extra></extra>",
         "hovertext": [
          "Physical Health/Sports",
          "Mental Health/Mindfulness",
          "Spirituality/Faith"
         ],
         "legendgroup": "Body, Mind and Spirituality",
         "marker": {
          "color": "blue",
          "line": {
           "color": "DarkSlateGrey",
           "width": 1
          },
          "opacity": 0.8,
          "size": {
           "bdata": "NAB9AKQA",
           "dtype": "i2"
          },
          "sizemode": "area",
          "sizeref": 0.105,
          "symbol": "circle"
         },
         "mode": "markers+text",
         "name": "Body, Mind and Spirituality",
         "orientation": "v",
         "showlegend": true,
         "text": [
          "Physical Health/Sports",
          "Mental Health/Mindfulness",
          "Spirituality/Faith"
         ],
         "textfont": {
          "size": 12
         },
         "textposition": "middle center",
         "type": "scatter",
         "x": {
          "bdata": "BQoE",
          "dtype": "i1"
         },
         "xaxis": "x",
         "y": {
          "bdata": "CQkH",
          "dtype": "i1"
         },
         "yaxis": "y"
        },
        {
         "hovertemplate": "<b>%{hovertext}</b><br><br>Strategic Life Areas(SLAs)=Community and Society<br>Satisfaction Level=%{x}<br>Importance Level=%{y}<br>Average Hours Spent in Week=%{marker.size}<br>Strategic Life Units (SLUs)=%{text}<extra></extra>",
         "hovertext": [
          "Community/Citizenship",
          "Societal Engagement"
         ],
         "legendgroup": "Community and Society",
         "marker": {
          "color": "green",
          "line": {
           "color": "DarkSlateGrey",
           "width": 1
          },
          "opacity": 0.8,
          "size": {
           "bdata": "oABXAA==",
           "dtype": "i2"
          },
          "sizemode": "area",
          "sizeref": 0.105,
          "symbol": "circle"
         },
         "mode": "markers+text",
         "name": "Community and Society",
         "orientation": "v",
         "showlegend": true,
         "text": [
          "Community/Citizenship",
          "Societal Engagement"
         ],
         "textfont": {
          "size": 12
         },
         "textposition": "middle center",
         "type": "scatter",
         "x": {
          "bdata": "AgY=",
          "dtype": "i1"
         },
         "xaxis": "x",
         "y": {
          "bdata": "CgA=",
          "dtype": "i1"
         },
         "yaxis": "y"
        },
        {
         "hovertemplate": "<b>%{hovertext}</b><br><br>Strategic Life Areas(SLAs)=Job, Learning and Finances<br>Satisfaction Level=%{x}<br>Importance Level=%{y}<br>Average Hours Spent in Week=%{marker.size}<br>Strategic Life Units (SLUs)=%{text}<extra></extra>",
         "hovertext": [
          "Job/Career",
          "Education/Learning",
          "Finances"
         ],
         "legendgroup": "Job, Learning and Finances",
         "marker": {
          "color": "purple",
          "line": {
           "color": "DarkSlateGrey",
           "width": 1
          },
          "opacity": 0.8,
          "size": {
           "bdata": "eQCoAJMA",
           "dtype": "i2"
          },
          "sizemode": "area",
          "sizeref": 0.105,
          "symbol": "circle"
         },
         "mode": "markers+text",
         "name": "Job, Learning and Finances",
         "orientation": "v",
         "showlegend": true,
         "text": [
          "Job/Career",
          "Education/Learning",
          "Finances"
         ],
         "textfont": {
          "size": 12
         },
         "textposition": "middle center",
         "type": "scatter",
         "x": {
          "bdata": "AgoK",
          "dtype": "i1"
         },
         "xaxis": "x",
         "y": {
          "bdata": "AwcD",
          "dtype": "i1"
         },
         "yaxis": "y"
        },
        {
         "hovertemplate": "<b>%{hovertext}</b><br><br>Strategic Life Areas(SLAs)=Interests and Entertainment<br>Satisfaction Level=%{x}<br>Importance Level=%{y}<br>Average Hours Spent in Week=%{marker.size}<br>Strategic Life Units (SLUs)=%{text}<extra></extra>",
         "hovertext": [
          "Hobbies/Interests",
          "Online Entertainment",
          "Offline Entertainment"
         ],
         "legendgroup": "Interests and Entertainment",
         "marker": {
          "color": "orange",
          "line": {
           "color": "DarkSlateGrey",
           "width": 1
          },
          "opacity": 0.8,
          "size": {
           "bdata": "hABeAHoA",
           "dtype": "i2"
          },
          "sizemode": "area",
          "sizeref": 0.105,
          "symbol": "circle"
         },
         "mode": "markers+text",
         "name": "Interests and Entertainment",
         "orientation": "v",
         "showlegend": true,
         "text": [
          "Hobbies/Interests",
          "Online Entertainment",
          "Offline Entertainment"
         ],
         "textfont": {
          "size": 12
         },
         "textposition": "middle center",
         "type": "scatter",
         "x": {
          "bdata": "AQkJ",
          "dtype": "i1"
         },
         "xaxis": "x",
         "y": {
          "bdata": "CAYB",
          "dtype": "i1"
         },
         "yaxis": "y"
        },
        {
         "hovertemplate": "<b>%{hovertext}</b><br><br>Strategic Life Areas(SLAs)=Personal Care<br>Satisfaction Level=%{x}<br>Importance Level=%{y}<br>Average Hours Spent in Week=%{marker.size}<br>Strategic Life Units (SLUs)=%{text}<extra></extra>",
         "hovertext": [
          "Physiological Needs",
          "Activities of Daily Living"
         ],
         "legendgroup": "Personal Care",
         "marker": {
          "color": "brown",
          "line": {
           "color": "DarkSlateGrey",
           "width": 1
          },
          "opacity": 0.8,
          "size": {
           "bdata": "O0g=",
           "dtype": "i1"
          },
          "sizemode": "area",
          "sizeref": 0.105,
          "symbol": "circle"
         },
         "mode": "markers+text",
         "name": "Personal Care",
         "orientation": "v",
         "showlegend": true,
         "text": [
          "Physiological Needs",
          "Activities of Daily Living"
         ],
         "textfont": {
          "size": 12
         },
         "textposition": "middle center",
         "type": "scatter",
         "x": {
          "bdata": "AAE=",
          "dtype": "i1"
         },
         "xaxis": "x",
         "y": {
          "bdata": "BAI=",
          "dtype": "i1"
         },
         "yaxis": "y"
        }
       ],
       "layout": {
        "height": 900,
        "legend": {
         "itemsizing": "constant",
         "title": {
          "text": "Strategic Life Areas"
         },
         "tracegroupgap": 0
        },
        "shapes": [
         {
          "line": {
           "color": "black",
           "width": 2
          },
          "type": "line",
          "x0": 0,
          "x1": 0,
          "y0": -0.9,
          "y1": 10.9
         },
         {
          "line": {
           "color": "black",
           "width": 2
          },
          "type": "line",
          "x0": -0.9,
          "x1": 10.9,
          "y0": 0,
          "y1": 0
         }
        ],
        "template": {
         "data": {
          "bar": [
           {
            "error_x": {
             "color": "#2a3f5f"
            },
            "error_y": {
             "color": "#2a3f5f"
            },
            "marker": {
             "line": {
              "color": "white",
              "width": 0.5
             },
             "pattern": {
              "fillmode": "overlay",
              "size": 10,
              "solidity": 0.2
             }
            },
            "type": "bar"
           }
          ],
          "barpolar": [
           {
            "marker": {
             "line": {
              "color": "white",
              "width": 0.5
             },
             "pattern": {
              "fillmode": "overlay",
              "size": 10,
              "solidity": 0.2
             }
            },
            "type": "barpolar"
           }
          ],
          "carpet": [
           {
            "aaxis": {
             "endlinecolor": "#2a3f5f",
             "gridcolor": "#C8D4E3",
             "linecolor": "#C8D4E3",
             "minorgridcolor": "#C8D4E3",
             "startlinecolor": "#2a3f5f"
            },
            "baxis": {
             "endlinecolor": "#2a3f5f",
             "gridcolor": "#C8D4E3",
             "linecolor": "#C8D4E3",
             "minorgridcolor": "#C8D4E3",
             "startlinecolor": "#2a3f5f"
            },
            "type": "carpet"
           }
          ],
          "choropleth": [
           {
            "colorbar": {
             "outlinewidth": 0,
             "ticks": ""
            },
            "type": "choropleth"
           }
          ],
          "contour": [
           {
            "colorbar": {
             "outlinewidth": 0,
             "ticks": ""
            },
            "colorscale": [
             [
              0,
              "#0d0887"
             ],
             [
              0.1111111111111111,
              "#46039f"
             ],
             [
              0.2222222222222222,
              "#7201a8"
             ],
             [
              0.3333333333333333,
              "#9c179e"
             ],
             [
              0.4444444444444444,
              "#bd3786"
             ],
             [
              0.5555555555555556,
              "#d8576b"
             ],
             [
              0.6666666666666666,
              "#ed7953"
             ],
             [
              0.7777777777777778,
              "#fb9f3a"
             ],
             [
              0.8888888888888888,
              "#fdca26"
             ],
             [
              1,
              "#f0f921"
             ]
            ],
            "type": "contour"
           }
          ],
          "contourcarpet": [
           {
            "colorbar": {
             "outlinewidth": 0,
             "ticks": ""
            },
            "type": "contourcarpet"
           }
          ],
          "heatmap": [
           {
            "colorbar": {
             "outlinewidth": 0,
             "ticks": ""
            },
            "colorscale": [
             [
              0,
              "#0d0887"
             ],
             [
              0.1111111111111111,
              "#46039f"
             ],
             [
              0.2222222222222222,
              "#7201a8"
             ],
             [
              0.3333333333333333,
              "#9c179e"
             ],
             [
              0.4444444444444444,
              "#bd3786"
             ],
             [
              0.5555555555555556,
              "#d8576b"
             ],
             [
              0.6666666666666666,
              "#ed7953"
             ],
             [
              0.7777777777777778,
              "#fb9f3a"
             ],
             [
              0.8888888888888888,
              "#fdca26"
             ],
             [
              1,
              "#f0f921"
             ]
            ],
            "type": "heatmap"
           }
          ],
          "histogram": [
           {
            "marker": {
             "pattern": {
              "fillmode": "overlay",
              "size": 10,
              "solidity": 0.2
             }
            },
            "type": "histogram"
           }
          ],
          "histogram2d": [
           {
            "colorbar": {
             "outlinewidth": 0,
             "ticks": ""
            },
            "colorscale": [
             [
              0,
              "#0d0887"
             ],
             [
              0.1111111111111111,
              "#46039f"
             ],
             [
              0.2222222222222222,
              "#7201a8"
             ],
             [
              0.3333333333333333,
              "#9c179e"
             ],
             [
              0.4444444444444444,
              "#bd3786"
             ],
             [
              0.5555555555555556,
              "#d8576b"
             ],
             [
              0.6666666666666666,
              "#ed7953"
             ],
             [
              0.7777777777777778,
              "#fb9f3a"
             ],
             [
              0.8888888888888888,
              "#fdca26"
             ],
             [
              1,
              "#f0f921"
             ]
            ],
            "type": "histogram2d"
           }
          ],
          "histogram2dcontour": [
           {
            "colorbar": {
             "outlinewidth": 0,
             "ticks": ""
            },
            "colorscale": [
             [
              0,
              "#0d0887"
             ],
             [
              0.1111111111111111,
              "#46039f"
             ],
             [
              0.2222222222222222,
              "#7201a8"
             ],
             [
              0.3333333333333333,
              "#9c179e"
             ],
             [
              0.4444444444444444,
              "#bd3786"
             ],
             [
              0.5555555555555556,
              "#d8576b"
             ],
             [
              0.6666666666666666,
              "#ed7953"
             ],
             [
              0.7777777777777778,
              "#fb9f3a"
             ],
             [
              0.8888888888888888,
              "#fdca26"
             ],
             [
              1,
              "#f0f921"
             ]
            ],
            "type": "histogram2dcontour"
           }
          ],
          "mesh3d": [
           {
            "colorbar": {
             "outlinewidth": 0,
             "ticks": ""
            },
            "type": "mesh3d"
           }
          ],
          "parcoords": [
           {
            "line": {
             "colorbar": {
              "outlinewidth": 0,
              "ticks": ""
             }
            },
            "type": "parcoords"
           }
          ],
          "pie": [
           {
            "automargin": true,
            "type": "pie"
           }
          ],
          "scatter": [
           {
            "fillpattern": {
             "fillmode": "overlay",
             "size": 10,
             "solidity": 0.2
            },
            "type": "scatter"
           }
          ],
          "scatter3d": [
           {
            "line": {
             "colorbar": {
              "outlinewidth": 0,
              "ticks": ""
             }
            },
            "marker": {
             "colorbar": {
              "outlinewidth": 0,
              "ticks": ""
             }
            },
            "type": "scatter3d"
           }
          ],
          "scattercarpet": [
           {
            "marker": {
             "colorbar": {
              "outlinewidth": 0,
              "ticks": ""
             }
            },
            "type": "scattercarpet"
           }
          ],
          "scattergeo": [
           {
            "marker": {
             "colorbar": {
              "outlinewidth": 0,
              "ticks": ""
             }
            },
            "type": "scattergeo"
           }
          ],
          "scattergl": [
           {
            "marker": {
             "colorbar": {
              "outlinewidth": 0,
              "ticks": ""
             }
            },
            "type": "scattergl"
           }
          ],
          "scattermap": [
           {
            "marker": {
             "colorbar": {
              "outlinewidth": 0,
              "ticks": ""
             }
            },
            "type": "scattermap"
           }
          ],
          "scattermapbox": [
           {
            "marker": {
             "colorbar": {
              "outlinewidth": 0,
              "ticks": ""
             }
            },
            "type": "scattermapbox"
           }
          ],
          "scatterpolar": [
           {
            "marker": {
             "colorbar": {
              "outlinewidth": 0,
              "ticks": ""
             }
            },
            "type": "scatterpolar"
           }
          ],
          "scatterpolargl": [
           {
            "marker": {
             "colorbar": {
              "outlinewidth": 0,
              "ticks": ""
             }
            },
            "type": "scatterpolargl"
           }
          ],
          "scatterternary": [
           {
            "marker": {
             "colorbar": {
              "outlinewidth": 0,
              "ticks": ""
             }
            },
            "type": "scatterternary"
           }
          ],
          "surface": [
           {
            "colorbar": {
             "outlinewidth": 0,
             "ticks": ""
            },
            "colorscale": [
             [
              0,
              "#0d0887"
             ],
             [
              0.1111111111111111,
              "#46039f"
             ],
             [
              0.2222222222222222,
              "#7201a8"
             ],
             [
              0.3333333333333333,
              "#9c179e"
             ],
             [
              0.4444444444444444,
              "#bd3786"
             ],
             [
              0.5555555555555556,
              "#d8576b"
             ],
             [
              0.6666666666666666,
              "#ed7953"
             ],
             [
              0.7777777777777778,
              "#fb9f3a"
             ],
             [
              0.8888888888888888,
              "#fdca26"
             ],
             [
              1,
              "#f0f921"
             ]
            ],
            "type": "surface"
           }
          ],
          "table": [
           {
            "cells": {
             "fill": {
              "color": "#EBF0F8"
             },
             "line": {
              "color": "white"
             }
            },
            "header": {
             "fill": {
              "color": "#C8D4E3"
             },
             "line": {
              "color": "white"
             }
            },
            "type": "table"
           }
          ]
         },
         "layout": {
          "annotationdefaults": {
           "arrowcolor": "#2a3f5f",
           "arrowhead": 0,
           "arrowwidth": 1
          },
          "autotypenumbers": "strict",
          "coloraxis": {
           "colorbar": {
            "outlinewidth": 0,
            "ticks": ""
           }
          },
          "colorscale": {
           "diverging": [
            [
             0,
             "#8e0152"
            ],
            [
             0.1,
             "#c51b7d"
            ],
            [
             0.2,
             "#de77ae"
            ],
            [
             0.3,
             "#f1b6da"
            ],
            [
             0.4,
             "#fde0ef"
            ],
            [
             0.5,
             "#f7f7f7"
            ],
            [
             0.6,
             "#e6f5d0"
            ],
            [
             0.7,
             "#b8e186"
            ],
            [
             0.8,
             "#7fbc41"
            ],
            [
             0.9,
             "#4d9221"
            ],
            [
             1,
             "#276419"
            ]
           ],
           "sequential": [
            [
             0,
             "#0d0887"
            ],
            [
             0.1111111111111111,
             "#46039f"
            ],
            [
             0.2222222222222222,
             "#7201a8"
            ],
            [
             0.3333333333333333,
             "#9c179e"
            ],
            [
             0.4444444444444444,
             "#bd3786"
            ],
            [
             0.5555555555555556,
             "#d8576b"
            ],
            [
             0.6666666666666666,
             "#ed7953"
            ],
            [
             0.7777777777777778,
             "#fb9f3a"
            ],
            [
             0.8888888888888888,
             "#fdca26"
            ],
            [
             1,
             "#f0f921"
            ]
           ],
           "sequentialminus": [
            [
             0,
             "#0d0887"
            ],
            [
             0.1111111111111111,
             "#46039f"
            ],
            [
             0.2222222222222222,
             "#7201a8"
            ],
            [
             0.3333333333333333,
             "#9c179e"
            ],
            [
             0.4444444444444444,
             "#bd3786"
            ],
            [
             0.5555555555555556,
             "#d8576b"
            ],
            [
             0.6666666666666666,
             "#ed7953"
            ],
            [
             0.7777777777777778,
             "#fb9f3a"
            ],
            [
             0.8888888888888888,
             "#fdca26"
            ],
            [
             1,
             "#f0f921"
            ]
           ]
          },
          "colorway": [
           "#636efa",
           "#EF553B",
           "#00cc96",
           "#ab63fa",
           "#FFA15A",
           "#19d3f3",
           "#FF6692",
           "#B6E880",
           "#FF97FF",
           "#FECB52"
          ],
          "font": {
           "color": "#2a3f5f"
          },
          "geo": {
           "bgcolor": "white",
           "lakecolor": "white",
           "landcolor": "white",
           "showlakes": true,
           "showland": true,
           "subunitcolor": "#C8D4E3"
          },
          "hoverlabel": {
           "align": "left"
          },
          "hovermode": "closest",
          "mapbox": {
           "style": "light"
          },
          "paper_bgcolor": "white",
          "plot_bgcolor": "white",
          "polar": {
           "angularaxis": {
            "gridcolor": "#EBF0F8",
            "linecolor": "#EBF0F8",
            "ticks": ""
           },
           "bgcolor": "white",
           "radialaxis": {
            "gridcolor": "#EBF0F8",
            "linecolor": "#EBF0F8",
            "ticks": ""
           }
          },
          "scene": {
           "xaxis": {
            "backgroundcolor": "white",
            "gridcolor": "#DFE8F3",
            "gridwidth": 2,
            "linecolor": "#EBF0F8",
            "showbackground": true,
            "ticks": "",
            "zerolinecolor": "#EBF0F8"
           },
           "yaxis": {
            "backgroundcolor": "white",
            "gridcolor": "#DFE8F3",
            "gridwidth": 2,
            "linecolor": "#EBF0F8",
            "showbackground": true,
            "ticks": "",
            "zerolinecolor": "#EBF0F8"
           },
           "zaxis": {
            "backgroundcolor": "white",
            "gridcolor": "#DFE8F3",
            "gridwidth": 2,
            "linecolor": "#EBF0F8",
            "showbackground": true,
            "ticks": "",
            "zerolinecolor": "#EBF0F8"
           }
          },
          "shapedefaults": {
           "line": {
            "color": "#2a3f5f"
           }
          },
          "ternary": {
           "aaxis": {
            "gridcolor": "#DFE8F3",
            "linecolor": "#A2B1C6",
            "ticks": ""
           },
           "baxis": {
            "gridcolor": "#DFE8F3",
            "linecolor": "#A2B1C6",
            "ticks": ""
           },
           "bgcolor": "white",
           "caxis": {
            "gridcolor": "#DFE8F3",
            "linecolor": "#A2B1C6",
            "ticks": ""
           }
          },
          "title": {
           "x": 0.05
          },
          "xaxis": {
           "automargin": true,
           "gridcolor": "#EBF0F8",
           "linecolor": "#EBF0F8",
           "ticks": "",
           "title": {
            "standoff": 15
           },
           "zerolinecolor": "#EBF0F8",
           "zerolinewidth": 2
          },
          "yaxis": {
           "automargin": true,
           "gridcolor": "#EBF0F8",
           "linecolor": "#EBF0F8",
           "ticks": "",
           "title": {
            "standoff": 15
           },
           "zerolinecolor": "#EBF0F8",
           "zerolinewidth": 2
          }
         }
        },
        "title": {
         "text": "Life Portfolio: Importance vs Satisfaction vs Time Spent \n 2025-09-28 14:48:53.400433"
        },
        "width": 1200,
        "xaxis": {
         "anchor": "y",
         "domain": [
          0,
          1
         ],
         "range": [
          -0.9,
          10.9
         ],
         "title": {
          "text": "Satisfaction Level"
         }
        },
        "yaxis": {
         "anchor": "x",
         "domain": [
          0,
          1
         ],
         "range": [
          -0.9,
          10.9
         ],
         "title": {
          "text": "Importance Level"
         }
        }
       }
      }
     },
     "metadata": {},
     "output_type": "display_data"
    }
   ],
   "source": [
    "life_portfolio_created_date = latest_portfolio_df['Created_Date'].iloc[0]\n",
    "\n",
    "color_map = {\n",
    "    \"Relationships\": \"red\",\n",
    "    \"Body, Mind and Spirituality\": \"blue\",\n",
    "    \"Community and Society\": \"green\",\n",
    "    \"Job, Learning and Finances\": \"purple\",\n",
    "    \"Interests and Entertainment\": \"orange\",\n",
    "    \"Personal Care\": \"brown\"\n",
    "}\n",
    "\n",
    "fig = px.scatter(\n",
    "    latest_portfolio_df,\n",
    "    x=\"Satisfaction Level\",\n",
    "    y=\"Importance Level\",\n",
    "    size=\"Average Hours Spent in Week\",\n",
    "    color=\"Strategic Life Areas(SLAs)\",\n",
    "    hover_name=\"Strategic Life Units (SLUs)\",\n",
    "    size_max=40,  # Controls max bubble size\n",
    "    title=f\"Life Portfolio: Importance vs Satisfaction vs Time Spent \\n {life_portfolio_created_date}\",\n",
    "    color_discrete_map=color_map,\n",
    "    text=\"Strategic Life Units (SLUs)\",\n",
    ")\n",
    "\n",
    "# Ensure text is visible inside bubbles\n",
    "fig.update_traces(\n",
    "    textposition=\"middle center\",\n",
    "    textfont_size=12,  # Adjust font size if needed\n",
    "    marker=dict(opacity=0.8, line=dict(width=1, color='DarkSlateGrey'))\n",
    ")\n",
    "\n",
    "# Add black lines at x=0 and y=0\n",
    "fig.add_shape(\n",
    "    type=\"line\",\n",
    "    x0=0, y0=-0.9, x1=0, y1=10.9,\n",
    "    line=dict(color=\"black\", width=2)\n",
    ")\n",
    "fig.add_shape(\n",
    "    type=\"line\",\n",
    "    x0=-0.9, y0=0, x1=10.9, y1=0,\n",
    "    line=dict(color=\"black\", width=2)\n",
    ")\n",
    "\n",
    "# Update layout for better readability\n",
    "fig.update_layout(\n",
    "    xaxis=dict(title=\"Satisfaction Level\", range=[-0.9, 10.9]),\n",
    "    yaxis=dict(title=\"Importance Level\", range=[-0.9, 10.9]),\n",
    "    legend_title=\"Strategic Life Areas\",\n",
    "    template=\"plotly_white\",\n",
    "    width = 1200,\n",
    "    height = 900\n",
    ")\n",
    "\n",
    "fig.show()"
   ]
  },
  {
   "cell_type": "code",
   "execution_count": null,
   "id": "16da9243",
   "metadata": {},
   "outputs": [],
   "source": []
  }
 ],
 "metadata": {
  "kernelspec": {
   "display_name": "life_strategy",
   "language": "python",
   "name": "python3"
  },
  "language_info": {
   "codemirror_mode": {
    "name": "ipython",
    "version": 3
   },
   "file_extension": ".py",
   "mimetype": "text/x-python",
   "name": "python",
   "nbconvert_exporter": "python",
   "pygments_lexer": "ipython3",
   "version": "3.13.7"
  }
 },
 "nbformat": 4,
 "nbformat_minor": 5
}
